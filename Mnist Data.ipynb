{
 "cells": [
  {
   "cell_type": "code",
   "execution_count": 15,
   "metadata": {},
   "outputs": [],
   "source": [
    "import numpy as np\n",
    "import matplotlib.pyplot as plt\n",
    "import pandas as pd\n",
    "import os\n",
    "from mnist import MNIST\n",
    "from matplotlib import offsetbox\n",
    "from sklearn.decomposition import PCA\n",
    "from sklearn.discriminant_analysis import LinearDiscriminantAnalysis\n"
   ]
  },
  {
   "cell_type": "code",
   "execution_count": 16,
   "metadata": {},
   "outputs": [],
   "source": [
    "mndata = MNIST('Samples')\n",
    "\n",
    "Tr_images, Tr_labels = mndata.load_training()\n",
    "\n",
    "Tr_images = np.array(Tr_images)\n",
    "Tr_labels = np.array(Tr_labels)\n",
    "Te_images, Te_labels = mndata.load_testing()\n",
    "Te_images = np.array(Te_images)\n",
    "Te_labels = np.array(Te_labels)"
   ]
  },
  {
   "cell_type": "code",
   "execution_count": null,
   "metadata": {
    "scrolled": false
   },
   "outputs": [],
   "source": [
    "# Scale and visualize the embedding vectors\n",
    "def plot_embedding(X, title=None):\n",
    "    x_min, x_max = np.min(X, 0), np.max(X, 0)\n",
    "    X = (X - x_min) / (x_max - x_min)\n",
    "    \n",
    "    fig = plt.figure(figsize=(28,28))\n",
    "    ax = fig.add_subplot(1, 1, 1)\n",
    "    for i in range(60000):\n",
    "        plt.text(X[i, 0], X[i, 1], str(Tr_labels[i]),\n",
    "                 color=plt.cm.Set1(Tr_labels[i] / 10.),\n",
    "                 fontdict={'weight': 'bold', 'size': 9})\n",
    "        \n",
    "        \n",
    "    if hasattr(offsetbox, 'AnnotationBbox'):\n",
    "        # only print thumbnails with matplotlib > 1.0\n",
    "        shown_images = np.array([[1., 1.]])  # just something big\n",
    "        for i in range(60000):\n",
    "            dist = np.sum((X[i] - shown_images) ** 2, 1)\n",
    "            if np.min(dist) < 4e-3:\n",
    "                # don't show points that are too close\n",
    "                continue\n",
    "            shown_images = np.r_[shown_images, [X[i]]]\n",
    "            imagebox = offsetbox.AnnotationBbox(\n",
    "                offsetbox.OffsetImage(np.reshape(Tr_images[i],(28,28)), cmap=plt.cm.gray_r),\n",
    "                X[i])\n",
    "            ax.add_artist(imagebox)\n",
    "    plt.xticks([]), plt.yticks([])\n",
    "    if title is not None:\n",
    "        plt.title(title)\n",
    "    plt.show()\n",
    "\n",
    "\n",
    "# Projection on to the first 2 principal components\n",
    "\n",
    "print(\"Computing PCA projection\")\n",
    "pca = PCA(n_components=2)\n",
    "Train_pca = pca.fit(Tr_images).transform(Tr_images)\n",
    "Test_pca = pca.fit(Te_images).transform(Te_images)\n",
    "plot_embedding(Train_pca,\n",
    "               \"Principal Components projection of the digits\")\n",
    "\n",
    "\n",
    "print(\"Computing Linear Discriminant Analysis projection\")\n",
    "lda = LinearDiscriminantAnalysis(n_components=2)\n",
    "Train_lda = lda.fit(Tr_images, Tr_labels).transform(Tr_images)\n",
    "Test_lda = lda.fit(Te_images, Te_labels).transform(Te_images)\n",
    "plot_embedding(Train_lda,\n",
    "               \"Linear Discriminant projection of the digits\")"
   ]
  },
  {
   "cell_type": "code",
   "execution_count": null,
   "metadata": {},
   "outputs": [],
   "source": [
    "from sklearn.ensemble import RandomForestClassifier\n",
    "classifier = RandomForestClassifier(n_estimators = 200, criterion ='entropy', random_state = 0)\n",
    "classifierp = RandomForestClassifier(n_estimators = 200, criterion ='entropy', random_state = 0)\n",
    "classifierl = RandomForestClassifier(n_estimators = 200, criterion ='entropy', random_state = 0)\n",
    "classifier.fit(Tr_images,Tr_labels)\n",
    "classifierp.fit(Train_pca,Tr_labels)\n",
    "classifierl.fit(Train_lda,Tr_labels)\n",
    "pred = classifier.predict(Te_images)\n",
    "pca_pre = classifierp.predict(Test_pca)\n",
    "lda_pre = classifierl.predict(Test_lda)\n",
    "\n"
   ]
  },
  {
   "cell_type": "code",
   "execution_count": null,
   "metadata": {},
   "outputs": [],
   "source": [
    "from sklearn.metrics import accuracy_score\n",
    "acc = accuracy_score(Te_labels, pred)\n",
    "accp = accuracy_score(Te_labels, pca_pre)\n",
    "accl = accuracy_score(Te_labels, lda_pre)"
   ]
  },
  {
   "cell_type": "code",
   "execution_count": null,
   "metadata": {},
   "outputs": [],
   "source": [
    "from sklearn.metrics import confusion_matrix\n",
    "cm = confusion_matrix(Te_labels,pred)\n",
    "cmp = confusion_matrix(Te_labels,pca_pre)\n",
    "cml = confusion_matrix(Te_labels,lda_pre)"
   ]
  },
  {
   "cell_type": "code",
   "execution_count": null,
   "metadata": {},
   "outputs": [],
   "source": [
    "acc"
   ]
  },
  {
   "cell_type": "code",
   "execution_count": null,
   "metadata": {},
   "outputs": [],
   "source": [
    "accp"
   ]
  },
  {
   "cell_type": "code",
   "execution_count": null,
   "metadata": {},
   "outputs": [],
   "source": [
    "accl"
   ]
  },
  {
   "cell_type": "code",
   "execution_count": null,
   "metadata": {},
   "outputs": [],
   "source": []
  }
 ],
 "metadata": {
  "kernelspec": {
   "display_name": "Python 3",
   "language": "python",
   "name": "python3"
  },
  "language_info": {
   "codemirror_mode": {
    "name": "ipython",
    "version": 3
   },
   "file_extension": ".py",
   "mimetype": "text/x-python",
   "name": "python",
   "nbconvert_exporter": "python",
   "pygments_lexer": "ipython3",
   "version": "3.7.0"
  }
 },
 "nbformat": 4,
 "nbformat_minor": 2
}
